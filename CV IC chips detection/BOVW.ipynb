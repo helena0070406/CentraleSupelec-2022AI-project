{
  "nbformat": 4,
  "nbformat_minor": 0,
  "metadata": {
    "colab": {
      "provenance": []
    },
    "kernelspec": {
      "display_name": "Python 3",
      "name": "python3"
    },
    "gpuClass": "standard"
  },
  "cells": [
    {
      "cell_type": "markdown",
      "source": [
        "**Import the Required Packages**"
      ],
      "metadata": {
        "id": "jOzhV5Hx7pOP"
      }
    },
    {
      "cell_type": "code",
      "metadata": {
        "id": "Y2IWM3OQ9kQ7"
      },
      "source": [
        "import numpy as np\n",
        "import pandas as pd\n",
        "import os\n",
        "import cv2\n",
        "import matplotlib.pyplot as plt\n",
        "import seaborn as sns"
      ],
      "execution_count": 1,
      "outputs": []
    },
    {
      "cell_type": "markdown",
      "metadata": {
        "id": "E9wmFBU0W62i"
      },
      "source": [
        "# Loading data"
      ]
    },
    {
      "cell_type": "code",
      "metadata": {
        "id": "2eixIhlPZJrJ"
      },
      "source": [
        "labels = ['IC_WITH', 'IC_WITHOUT']\n",
        "img_size = 200\n",
        "\n",
        "def load_data(data_dir):\n",
        "    data = [] \n",
        "    for label in labels: \n",
        "        path = os.path.join(data_dir, label)\n",
        "        class_ind = labels.index(label)\n",
        "        for img in os.listdir(path):\n",
        "            try:\n",
        "                img_raw = cv2.imread(os.path.join(path, img), cv2.IMREAD_GRAYSCALE)\n",
        "                img_res = cv2.resize(img_raw, (img_size, img_size))\n",
        "                data.append([img_res, class_ind])\n",
        "            except Exception as e:\n",
        "                print(e)\n",
        "    return np.array(data)"
      ],
      "execution_count": 2,
      "outputs": []
    },
    {
      "cell_type": "code",
      "source": [
        "from google.colab import drive\n",
        "drive.mount('/content/drive')"
      ],
      "metadata": {
        "colab": {
          "base_uri": "https://localhost:8080/"
        },
        "id": "WCrT97IJRbxs",
        "outputId": "8a302872-2f95-4a16-8b41-323796aea209"
      },
      "execution_count": 3,
      "outputs": [
        {
          "output_type": "stream",
          "name": "stdout",
          "text": [
            "Mounted at /content/drive\n"
          ]
        }
      ]
    },
    {
      "cell_type": "code",
      "metadata": {
        "id": "QKlFyas6-_PX",
        "colab": {
          "base_uri": "https://localhost:8080/"
        },
        "outputId": "4a0e7c66-eb67-43a7-f79e-dedb1a757d36"
      },
      "source": [
        "train = load_data('/content/drive/MyDrive/data/IC_PINS/train')\n",
        "test = load_data(\"/content/drive/MyDrive/data/IC_PINS/test\")\n",
        "val = load_data(\"/content/drive/MyDrive/data/IC_PINS/val\")"
      ],
      "execution_count": 4,
      "outputs": [
        {
          "output_type": "stream",
          "name": "stderr",
          "text": [
            "<ipython-input-2-654eec8f8a66>:16: VisibleDeprecationWarning: Creating an ndarray from ragged nested sequences (which is a list-or-tuple of lists-or-tuples-or ndarrays with different lengths or shapes) is deprecated. If you meant to do this, you must specify 'dtype=object' when creating the ndarray.\n",
            "  return np.array(data)\n"
          ]
        }
      ]
    },
    {
      "cell_type": "code",
      "source": [
        "# Number of Images in Training Set\n",
        "train.shape"
      ],
      "metadata": {
        "colab": {
          "base_uri": "https://localhost:8080/"
        },
        "id": "t6fAVM81KTzz",
        "outputId": "8a2d42be-bfcb-4d54-e618-9d08f7a8bc69"
      },
      "execution_count": 34,
      "outputs": [
        {
          "output_type": "execute_result",
          "data": {
            "text/plain": [
              "(100, 2)"
            ]
          },
          "metadata": {},
          "execution_count": 34
        }
      ]
    },
    {
      "cell_type": "code",
      "source": [
        "#Number of Images in Testing Set\n",
        "test.shape"
      ],
      "metadata": {
        "colab": {
          "base_uri": "https://localhost:8080/"
        },
        "id": "X7GC0HknKUAJ",
        "outputId": "f60117fa-d2b9-42b3-d8bc-6b8df2a777a3"
      },
      "execution_count": 35,
      "outputs": [
        {
          "output_type": "execute_result",
          "data": {
            "text/plain": [
              "(20, 2)"
            ]
          },
          "metadata": {},
          "execution_count": 35
        }
      ]
    },
    {
      "cell_type": "code",
      "source": [
        "#Number of Images in Validation Set\n",
        "val.shape"
      ],
      "metadata": {
        "colab": {
          "base_uri": "https://localhost:8080/"
        },
        "id": "31yjRn7uKype",
        "outputId": "763523a7-3231-4dc4-f557-60cbfa56f9a8"
      },
      "execution_count": 36,
      "outputs": [
        {
          "output_type": "execute_result",
          "data": {
            "text/plain": [
              "(2, 2)"
            ]
          },
          "metadata": {},
          "execution_count": 36
        }
      ]
    },
    {
      "cell_type": "markdown",
      "metadata": {
        "id": "JsxEM8-YXJKB"
      },
      "source": [
        "# HOG feature extraction"
      ]
    },
    {
      "cell_type": "markdown",
      "metadata": {
        "id": "udAfqkU0QIaV"
      },
      "source": []
    },
    {
      "cell_type": "code",
      "source": [
        "from skimage.transform import resize\n",
        "from skimage.feature import hog"
      ],
      "metadata": {
        "id": "7iqLyoE1wwAA"
      },
      "execution_count": 5,
      "outputs": []
    },
    {
      "cell_type": "code",
      "metadata": {
        "id": "WV8fAtCyQN51"
      },
      "source": [
        "train_hog=train.copy()\n",
        "\n",
        "for t in train_hog:\n",
        "  t[0] = resize(t[0], (128,64))\n",
        "\n",
        "new_boxes=[]\n",
        "for b in train_hog:\n",
        "    df = hog(b[0],orientations=9, pixels_per_cell=(8, 8), cells_per_block=(2, 2), visualize=False)#, orientations=9, pixels_per_cell=(14, 14), cells_per_block=(1, 1), visualize=False)\n",
        "    new_boxes.append(df)\n",
        "hog_features_train = np.array(new_boxes, 'float64')"
      ],
      "execution_count": 6,
      "outputs": []
    },
    {
      "cell_type": "code",
      "metadata": {
        "id": "LfNK0bK7QlKq"
      },
      "source": [
        "test_hog=test.copy()\n",
        "for t in test_hog:\n",
        "  t[0] = resize(t[0], (128,64))\n",
        "\n",
        "new_boxes=[]\n",
        "for b in test_hog:\n",
        "    df = hog(b[0],orientations=9, pixels_per_cell=(8, 8), cells_per_block=(2, 2), visualize=False)#, orientations=9, pixels_per_cell=(14, 14), cells_per_block=(1, 1), visualize=False)\n",
        "    new_boxes.append(df)\n",
        "hog_features_test = np.array(new_boxes, 'float64')"
      ],
      "execution_count": 7,
      "outputs": []
    },
    {
      "cell_type": "code",
      "metadata": {
        "colab": {
          "base_uri": "https://localhost:8080/"
        },
        "id": "Pn4G_LnKQkDY",
        "outputId": "b83980d6-5261-4009-fe97-f91593358af0"
      },
      "source": [
        "hog_features_train.shape"
      ],
      "execution_count": 8,
      "outputs": [
        {
          "output_type": "execute_result",
          "data": {
            "text/plain": [
              "(100, 3780)"
            ]
          },
          "metadata": {},
          "execution_count": 8
        }
      ]
    },
    {
      "cell_type": "markdown",
      "metadata": {
        "id": "av_EysVxXTmP"
      },
      "source": [
        "# LBP Feature extraction"
      ]
    },
    {
      "cell_type": "code",
      "metadata": {
        "id": "WENJFqkYvpt1"
      },
      "source": [
        "from skimage import feature\n",
        "def lbp_hist(gray_img, points=24, rad=8):\n",
        "  #\"uniform\" is preferred for rotation and grayscale invariance\n",
        "  lbp = feature.local_binary_pattern(gray_img, P=points, R=rad, method=\"uniform\")\n",
        "  hist, _ = np.histogram(lbp.ravel(), bins=np.arange(0, points+3), range=(0, points+2))\n",
        "  hist = hist.astype(\"float\")\n",
        "  hist /= hist.sum()\n",
        "  return hist"
      ],
      "execution_count": 9,
      "outputs": []
    },
    {
      "cell_type": "code",
      "metadata": {
        "id": "85G2PrNPvqOm"
      },
      "source": [
        "def preprocess_dataset(data, points=24, radius=3):\n",
        "  new_data = []\n",
        "  for row in data:\n",
        "    new_data.append(lbp_hist(gray_img=row[0], points=points, rad=radius))\n",
        "  \n",
        "  return np.array(new_data), data[:, 1].astype('int')"
      ],
      "execution_count": 10,
      "outputs": []
    },
    {
      "cell_type": "markdown",
      "metadata": {
        "id": "Onn0rwSEr309"
      },
      "source": []
    },
    {
      "cell_type": "code",
      "metadata": {
        "id": "6SgnyoCUtPOk"
      },
      "source": [
        "X_train, y_train = preprocess_dataset(train)\n",
        "X_val, y_val = preprocess_dataset(val)\n",
        "X_test, y_test = preprocess_dataset(test)"
      ],
      "execution_count": 11,
      "outputs": []
    },
    {
      "cell_type": "code",
      "metadata": {
        "id": "p7cCZO_Zvx7G"
      },
      "source": [
        "X_test, y_test = np.concatenate((X_test, X_val), axis=0), np.concatenate((y_test, y_val), axis=0)\n",
        "np.random.seed(42)\n",
        "temp = list(zip(X_test, y_test))\n",
        "np.random.shuffle(temp)\n",
        "X_test, y_test = zip(*temp)\n",
        "X_test, y_test = np.array(X_test), np.array(y_test)\n",
        "for i in range(X_test.shape[0]):\n",
        "  X_test[i] = X_test[i].reshape(1, -1)"
      ],
      "execution_count": 12,
      "outputs": []
    },
    {
      "cell_type": "markdown",
      "metadata": {
        "id": "GdIC3PDVXW33"
      },
      "source": [
        "# SVM+HOG"
      ]
    },
    {
      "cell_type": "markdown",
      "metadata": {
        "id": "ptZRUEnWsLCW"
      },
      "source": []
    },
    {
      "cell_type": "code",
      "source": [
        "from sklearn.svm import SVC\n",
        "from sklearn.metrics import accuracy_score"
      ],
      "metadata": {
        "id": "fjot4AeDkjpp"
      },
      "execution_count": 13,
      "outputs": []
    },
    {
      "cell_type": "code",
      "metadata": {
        "id": "L8a7tKMbswK8"
      },
      "source": [
        "clf = SVC()"
      ],
      "execution_count": 14,
      "outputs": []
    },
    {
      "cell_type": "code",
      "metadata": {
        "id": "Jcv9rNsTSEVX"
      },
      "source": [
        "labels_train=[]\n",
        "for t in train_hog:\n",
        "  labels_train.append(t[1])\n",
        "\n",
        "labels_test=[]\n",
        "for t in test_hog:\n",
        "  labels_test.append(t[1])"
      ],
      "execution_count": 15,
      "outputs": []
    },
    {
      "cell_type": "code",
      "metadata": {
        "colab": {
          "base_uri": "https://localhost:8080/"
        },
        "id": "x23Yd-HgR1OC",
        "outputId": "80856331-0b3b-4cbe-abbb-f9724ffb9ccf"
      },
      "source": [
        "param_grid = {'C': [0.01, 0.1, 1, 10, 100], 'gamma': [0.001, 0.01, 0.1, 1]}\n",
        "\n",
        "from sklearn.model_selection import GridSearchCV\n",
        "grid_search = GridSearchCV(SVC(kernel=\"linear\"), param_grid, cv=5, verbose=20, n_jobs=-1)\n",
        "\n",
        "grid_search.fit(hog_features_train, labels_train)\n",
        "print(\"Accuracy on test set: {:.2f}\".format(grid_search.score(hog_features_test, labels_test)))"
      ],
      "execution_count": 16,
      "outputs": [
        {
          "output_type": "stream",
          "name": "stdout",
          "text": [
            "Fitting 5 folds for each of 20 candidates, totalling 100 fits\n",
            "Accuracy on test set: 1.00\n"
          ]
        }
      ]
    },
    {
      "cell_type": "code",
      "source": [],
      "metadata": {
        "id": "ZEp961B36CFe"
      },
      "execution_count": null,
      "outputs": []
    },
    {
      "cell_type": "code",
      "metadata": {
        "colab": {
          "base_uri": "https://localhost:8080/"
        },
        "id": "DGNmWsvzSTLd",
        "outputId": "50ec0d2f-b63f-4b84-8304-b3daf1310760"
      },
      "source": [
        "grid_search.best_params_"
      ],
      "execution_count": 17,
      "outputs": [
        {
          "output_type": "execute_result",
          "data": {
            "text/plain": [
              "{'C': 0.1, 'gamma': 0.001}"
            ]
          },
          "metadata": {},
          "execution_count": 17
        }
      ]
    },
    {
      "cell_type": "code",
      "metadata": {
        "colab": {
          "base_uri": "https://localhost:8080/"
        },
        "id": "W2pc-1M9SXIp",
        "outputId": "e8dfdb3b-5b5c-4052-8177-c71fa63efce8"
      },
      "source": [
        "best_hog_svc = grid_search.best_estimator_\n",
        "labels_hog_pred = best_hog_svc.predict(hog_features_test)\n",
        "print(accuracy_score(labels_test,labels_hog_pred))"
      ],
      "execution_count": 18,
      "outputs": [
        {
          "output_type": "stream",
          "name": "stdout",
          "text": [
            "1.0\n"
          ]
        }
      ]
    },
    {
      "cell_type": "code",
      "source": [
        "predicted_label = best_hog_svc.predict(hog_features_test)\n",
        "\n",
        "#print the predicted label of the image\n",
        "print(\"Predicted label:\", labels_test)"
      ],
      "metadata": {
        "colab": {
          "base_uri": "https://localhost:8080/"
        },
        "id": "4T1K_wa05WbE",
        "outputId": "ae9130d1-5a65-4761-e9c9-d0d194631401"
      },
      "execution_count": 90,
      "outputs": [
        {
          "output_type": "stream",
          "name": "stdout",
          "text": [
            "Predicted label: [0, 0, 0, 0, 0, 0, 0, 0, 0, 0, 1, 1, 1, 1, 1, 1, 1, 1, 1, 1]\n"
          ]
        }
      ]
    },
    {
      "cell_type": "code",
      "source": [
        "result = pd.DataFrame({'original' : labels_test,'predicted' : labels_hog_pred})"
      ],
      "metadata": {
        "id": "S6yNCOgFOGb-"
      },
      "execution_count": 85,
      "outputs": []
    },
    {
      "cell_type": "code",
      "source": [
        "result"
      ],
      "metadata": {
        "colab": {
          "base_uri": "https://localhost:8080/",
          "height": 677
        },
        "id": "MoP7ONEKOH93",
        "outputId": "48013bab-5f5a-413a-d42d-02d299f3e47a"
      },
      "execution_count": 86,
      "outputs": [
        {
          "output_type": "execute_result",
          "data": {
            "text/plain": [
              "    original  predicted\n",
              "0          0          0\n",
              "1          0          0\n",
              "2          0          0\n",
              "3          0          0\n",
              "4          0          0\n",
              "5          0          0\n",
              "6          0          0\n",
              "7          0          0\n",
              "8          0          0\n",
              "9          0          0\n",
              "10         1          1\n",
              "11         1          1\n",
              "12         1          1\n",
              "13         1          1\n",
              "14         1          1\n",
              "15         1          1\n",
              "16         1          1\n",
              "17         1          1\n",
              "18         1          1\n",
              "19         1          1"
            ],
            "text/html": [
              "\n",
              "  <div id=\"df-ea1c04da-0ca3-4574-af42-13f7e18fd192\">\n",
              "    <div class=\"colab-df-container\">\n",
              "      <div>\n",
              "<style scoped>\n",
              "    .dataframe tbody tr th:only-of-type {\n",
              "        vertical-align: middle;\n",
              "    }\n",
              "\n",
              "    .dataframe tbody tr th {\n",
              "        vertical-align: top;\n",
              "    }\n",
              "\n",
              "    .dataframe thead th {\n",
              "        text-align: right;\n",
              "    }\n",
              "</style>\n",
              "<table border=\"1\" class=\"dataframe\">\n",
              "  <thead>\n",
              "    <tr style=\"text-align: right;\">\n",
              "      <th></th>\n",
              "      <th>original</th>\n",
              "      <th>predicted</th>\n",
              "    </tr>\n",
              "  </thead>\n",
              "  <tbody>\n",
              "    <tr>\n",
              "      <th>0</th>\n",
              "      <td>0</td>\n",
              "      <td>0</td>\n",
              "    </tr>\n",
              "    <tr>\n",
              "      <th>1</th>\n",
              "      <td>0</td>\n",
              "      <td>0</td>\n",
              "    </tr>\n",
              "    <tr>\n",
              "      <th>2</th>\n",
              "      <td>0</td>\n",
              "      <td>0</td>\n",
              "    </tr>\n",
              "    <tr>\n",
              "      <th>3</th>\n",
              "      <td>0</td>\n",
              "      <td>0</td>\n",
              "    </tr>\n",
              "    <tr>\n",
              "      <th>4</th>\n",
              "      <td>0</td>\n",
              "      <td>0</td>\n",
              "    </tr>\n",
              "    <tr>\n",
              "      <th>5</th>\n",
              "      <td>0</td>\n",
              "      <td>0</td>\n",
              "    </tr>\n",
              "    <tr>\n",
              "      <th>6</th>\n",
              "      <td>0</td>\n",
              "      <td>0</td>\n",
              "    </tr>\n",
              "    <tr>\n",
              "      <th>7</th>\n",
              "      <td>0</td>\n",
              "      <td>0</td>\n",
              "    </tr>\n",
              "    <tr>\n",
              "      <th>8</th>\n",
              "      <td>0</td>\n",
              "      <td>0</td>\n",
              "    </tr>\n",
              "    <tr>\n",
              "      <th>9</th>\n",
              "      <td>0</td>\n",
              "      <td>0</td>\n",
              "    </tr>\n",
              "    <tr>\n",
              "      <th>10</th>\n",
              "      <td>1</td>\n",
              "      <td>1</td>\n",
              "    </tr>\n",
              "    <tr>\n",
              "      <th>11</th>\n",
              "      <td>1</td>\n",
              "      <td>1</td>\n",
              "    </tr>\n",
              "    <tr>\n",
              "      <th>12</th>\n",
              "      <td>1</td>\n",
              "      <td>1</td>\n",
              "    </tr>\n",
              "    <tr>\n",
              "      <th>13</th>\n",
              "      <td>1</td>\n",
              "      <td>1</td>\n",
              "    </tr>\n",
              "    <tr>\n",
              "      <th>14</th>\n",
              "      <td>1</td>\n",
              "      <td>1</td>\n",
              "    </tr>\n",
              "    <tr>\n",
              "      <th>15</th>\n",
              "      <td>1</td>\n",
              "      <td>1</td>\n",
              "    </tr>\n",
              "    <tr>\n",
              "      <th>16</th>\n",
              "      <td>1</td>\n",
              "      <td>1</td>\n",
              "    </tr>\n",
              "    <tr>\n",
              "      <th>17</th>\n",
              "      <td>1</td>\n",
              "      <td>1</td>\n",
              "    </tr>\n",
              "    <tr>\n",
              "      <th>18</th>\n",
              "      <td>1</td>\n",
              "      <td>1</td>\n",
              "    </tr>\n",
              "    <tr>\n",
              "      <th>19</th>\n",
              "      <td>1</td>\n",
              "      <td>1</td>\n",
              "    </tr>\n",
              "  </tbody>\n",
              "</table>\n",
              "</div>\n",
              "      <button class=\"colab-df-convert\" onclick=\"convertToInteractive('df-ea1c04da-0ca3-4574-af42-13f7e18fd192')\"\n",
              "              title=\"Convert this dataframe to an interactive table.\"\n",
              "              style=\"display:none;\">\n",
              "        \n",
              "  <svg xmlns=\"http://www.w3.org/2000/svg\" height=\"24px\"viewBox=\"0 0 24 24\"\n",
              "       width=\"24px\">\n",
              "    <path d=\"M0 0h24v24H0V0z\" fill=\"none\"/>\n",
              "    <path d=\"M18.56 5.44l.94 2.06.94-2.06 2.06-.94-2.06-.94-.94-2.06-.94 2.06-2.06.94zm-11 1L8.5 8.5l.94-2.06 2.06-.94-2.06-.94L8.5 2.5l-.94 2.06-2.06.94zm10 10l.94 2.06.94-2.06 2.06-.94-2.06-.94-.94-2.06-.94 2.06-2.06.94z\"/><path d=\"M17.41 7.96l-1.37-1.37c-.4-.4-.92-.59-1.43-.59-.52 0-1.04.2-1.43.59L10.3 9.45l-7.72 7.72c-.78.78-.78 2.05 0 2.83L4 21.41c.39.39.9.59 1.41.59.51 0 1.02-.2 1.41-.59l7.78-7.78 2.81-2.81c.8-.78.8-2.07 0-2.86zM5.41 20L4 18.59l7.72-7.72 1.47 1.35L5.41 20z\"/>\n",
              "  </svg>\n",
              "      </button>\n",
              "      \n",
              "  <style>\n",
              "    .colab-df-container {\n",
              "      display:flex;\n",
              "      flex-wrap:wrap;\n",
              "      gap: 12px;\n",
              "    }\n",
              "\n",
              "    .colab-df-convert {\n",
              "      background-color: #E8F0FE;\n",
              "      border: none;\n",
              "      border-radius: 50%;\n",
              "      cursor: pointer;\n",
              "      display: none;\n",
              "      fill: #1967D2;\n",
              "      height: 32px;\n",
              "      padding: 0 0 0 0;\n",
              "      width: 32px;\n",
              "    }\n",
              "\n",
              "    .colab-df-convert:hover {\n",
              "      background-color: #E2EBFA;\n",
              "      box-shadow: 0px 1px 2px rgba(60, 64, 67, 0.3), 0px 1px 3px 1px rgba(60, 64, 67, 0.15);\n",
              "      fill: #174EA6;\n",
              "    }\n",
              "\n",
              "    [theme=dark] .colab-df-convert {\n",
              "      background-color: #3B4455;\n",
              "      fill: #D2E3FC;\n",
              "    }\n",
              "\n",
              "    [theme=dark] .colab-df-convert:hover {\n",
              "      background-color: #434B5C;\n",
              "      box-shadow: 0px 1px 3px 1px rgba(0, 0, 0, 0.15);\n",
              "      filter: drop-shadow(0px 1px 2px rgba(0, 0, 0, 0.3));\n",
              "      fill: #FFFFFF;\n",
              "    }\n",
              "  </style>\n",
              "\n",
              "      <script>\n",
              "        const buttonEl =\n",
              "          document.querySelector('#df-ea1c04da-0ca3-4574-af42-13f7e18fd192 button.colab-df-convert');\n",
              "        buttonEl.style.display =\n",
              "          google.colab.kernel.accessAllowed ? 'block' : 'none';\n",
              "\n",
              "        async function convertToInteractive(key) {\n",
              "          const element = document.querySelector('#df-ea1c04da-0ca3-4574-af42-13f7e18fd192');\n",
              "          const dataTable =\n",
              "            await google.colab.kernel.invokeFunction('convertToInteractive',\n",
              "                                                     [key], {});\n",
              "          if (!dataTable) return;\n",
              "\n",
              "          const docLinkHtml = 'Like what you see? Visit the ' +\n",
              "            '<a target=\"_blank\" href=https://colab.research.google.com/notebooks/data_table.ipynb>data table notebook</a>'\n",
              "            + ' to learn more about interactive tables.';\n",
              "          element.innerHTML = '';\n",
              "          dataTable['output_type'] = 'display_data';\n",
              "          await google.colab.output.renderOutput(dataTable, element);\n",
              "          const docLink = document.createElement('div');\n",
              "          docLink.innerHTML = docLinkHtml;\n",
              "          element.appendChild(docLink);\n",
              "        }\n",
              "      </script>\n",
              "    </div>\n",
              "  </div>\n",
              "  "
            ]
          },
          "metadata": {},
          "execution_count": 86
        }
      ]
    },
    {
      "cell_type": "code",
      "metadata": {
        "colab": {
          "base_uri": "https://localhost:8080/"
        },
        "id": "SlJKGUg3Pe-b",
        "outputId": "973eabee-b693-4de0-ce08-040434028d2c"
      },
      "source": [
        "from sklearn.metrics import classification_report\n",
        "print(classification_report(labels_test, labels_hog_pred, target_names=['IC_WITH', 'IC_WITHOUT']))"
      ],
      "execution_count": 21,
      "outputs": [
        {
          "output_type": "stream",
          "name": "stdout",
          "text": [
            "              precision    recall  f1-score   support\n",
            "\n",
            "     IC_WITH       1.00      1.00      1.00        10\n",
            "  IC_WITHOUT       1.00      1.00      1.00        10\n",
            "\n",
            "    accuracy                           1.00        20\n",
            "   macro avg       1.00      1.00      1.00        20\n",
            "weighted avg       1.00      1.00      1.00        20\n",
            "\n"
          ]
        }
      ]
    },
    {
      "cell_type": "code",
      "metadata": {
        "colab": {
          "base_uri": "https://localhost:8080/",
          "height": 521
        },
        "id": "3Xy5aO_KSa5e",
        "outputId": "be4bf097-c139-492e-ed8a-f9f4efeb0714"
      },
      "source": [
        "from sklearn.metrics import confusion_matrix\n",
        "from mlxtend.plotting import plot_confusion_matrix\n",
        "\n",
        "# Get the confusion matrix\n",
        "cm  = confusion_matrix(labels_test, labels_hog_pred)\n",
        "plt.figure()\n",
        "plot_confusion_matrix(cm,figsize=(12,8), hide_ticks=True,cmap=plt.cm.Blues)\n",
        "plt.xticks(range(2), ['IC_WITH', 'IC_WITHOUT'], fontsize=16)\n",
        "plt.yticks(range(2), ['IC_WITH', 'IC_WITHOUT'], fontsize=16)\n",
        "plt.show()"
      ],
      "execution_count": 22,
      "outputs": [
        {
          "output_type": "display_data",
          "data": {
            "text/plain": [
              "<Figure size 432x288 with 0 Axes>"
            ]
          },
          "metadata": {}
        },
        {
          "output_type": "display_data",
          "data": {
            "text/plain": [
              "<Figure size 864x576 with 1 Axes>"
            ],
            "image/png": "[encoded data removed]"
          },
          "metadata": {
            "needs_background": "light"
          }
        }
      ]
    },
    {
      "cell_type": "code",
      "metadata": {
        "id": "6D2GHoF-DlSW"
      },
      "source": [
        "for i in range(len(labels_test)):\n",
        "  if labels_test[i] == 0 and labels_hog_pred[i]==1:\n",
        "    print(i)"
      ],
      "execution_count": 87,
      "outputs": []
    },
    {
      "cell_type": "code",
      "metadata": {
        "colab": {
          "base_uri": "https://localhost:8080/",
          "height": 269
        },
        "id": "w-NTog2yECSc",
        "outputId": "e47def79-375b-4384-fb58-6d607bdbd76c"
      },
      "source": [
        "plt.imshow(train[17][0])\n",
        "plt.show()"
      ],
      "execution_count": 24,
      "outputs": [
        {
          "output_type": "display_data",
          "data": {
            "text/plain": [
              "<Figure size 432x288 with 1 Axes>"
            ],
            "image/png": "[encoded data removed]"
          },
          "metadata": {
            "needs_background": "light"
          }
        }
      ]
    },
    {
      "cell_type": "code",
      "metadata": {
        "colab": {
          "base_uri": "https://localhost:8080/",
          "height": 269
        },
        "id": "IXraxZeaEKEz",
        "outputId": "31520cea-b5bb-4749-81b2-cbf9f96fd7c2"
      },
      "source": [
        "plt.imshow(test[10][0])\n",
        "plt.show()"
      ],
      "execution_count": 25,
      "outputs": [
        {
          "output_type": "display_data",
          "data": {
            "text/plain": [
              "<Figure size 432x288 with 1 Axes>"
            ],
            "image/png": "[encoded data removed]"
          },
          "metadata": {
            "needs_background": "light"
          }
        }
      ]
    },
    {
      "cell_type": "markdown",
      "metadata": {
        "id": "cxl_yTxcXXDh"
      },
      "source": [
        "# SVM+LBP"
      ]
    },
    {
      "cell_type": "markdown",
      "metadata": {
        "id": "aNCMqM58wb0l"
      },
      "source": []
    },
    {
      "cell_type": "code",
      "metadata": {
        "id": "f2W3yv4ewiH7"
      },
      "source": [
        "C_vals = np.logspace(start=-2, stop=4, num=15, endpoint=True, dtype=float)\n",
        "params = {'C': C_vals,\n",
        "           'gamma': np.logspace(start=-5, stop=5, num=15)}\n",
        "svc = SVC(kernel='rbf', random_state=42, verbose=True)\n",
        "grid_search_lbp = GridSearchCV(svc, param_grid=params, n_jobs=-1, cv=5, verbose=2)"
      ],
      "execution_count": 26,
      "outputs": []
    },
    {
      "cell_type": "code",
      "metadata": {
        "colab": {
          "base_uri": "https://localhost:8080/"
        },
        "id": "uRdMbxPcwmLq",
        "outputId": "de112857-25d7-49b8-d6bc-55345893c414"
      },
      "source": [
        "grid_search_lbp.fit(X=X_train, y=y_train)"
      ],
      "execution_count": 27,
      "outputs": [
        {
          "output_type": "stream",
          "name": "stdout",
          "text": [
            "Fitting 5 folds for each of 225 candidates, totalling 1125 fits\n",
            "[LibSVM]"
          ]
        },
        {
          "output_type": "execute_result",
          "data": {
            "text/plain": [
              "GridSearchCV(cv=5, estimator=SVC(random_state=42, verbose=True), n_jobs=-1,\n",
              "             param_grid={'C': array([1.00000000e-02, 2.68269580e-02, 7.19685673e-02, 1.93069773e-01,\n",
              "       5.17947468e-01, 1.38949549e+00, 3.72759372e+00, 1.00000000e+01,\n",
              "       2.68269580e+01, 7.19685673e+01, 1.93069773e+02, 5.17947468e+02,\n",
              "       1.38949549e+03, 3.72759372e+03, 1.00000000e+04]),\n",
              "                         'gamma': array([1.00000000e-05, 5.17947468e-05, 2.68269580e-04, 1.38949549e-03,\n",
              "       7.19685673e-03, 3.72759372e-02, 1.93069773e-01, 1.00000000e+00,\n",
              "       5.17947468e+00, 2.68269580e+01, 1.38949549e+02, 7.19685673e+02,\n",
              "       3.72759372e+03, 1.93069773e+04, 1.00000000e+05])},\n",
              "             verbose=2)"
            ]
          },
          "metadata": {},
          "execution_count": 27
        }
      ]
    },
    {
      "cell_type": "code",
      "metadata": {
        "colab": {
          "base_uri": "https://localhost:8080/"
        },
        "id": "hj3Bfx2RwmsH",
        "outputId": "5a66a460-ff84-4b45-a902-370be239ea8b"
      },
      "source": [
        "grid_search_lbp.best_params_"
      ],
      "execution_count": 28,
      "outputs": [
        {
          "output_type": "execute_result",
          "data": {
            "text/plain": [
              "{'C': 193.06977288832496, 'gamma': 26.826957952797272}"
            ]
          },
          "metadata": {},
          "execution_count": 28
        }
      ]
    },
    {
      "cell_type": "code",
      "metadata": {
        "colab": {
          "base_uri": "https://localhost:8080/"
        },
        "id": "lL9WyoZUwozr",
        "outputId": "828552e2-d829-43fd-9ddd-4d8fda552ea5"
      },
      "source": [
        "y_test_pred = grid_search_lbp.best_estimator_.predict(X=X_test)\n",
        "print(accuracy_score(y_test, y_test_pred))\n",
        "print(grid_search_lbp.best_estimator_.score(X=X_test, y=y_test))"
      ],
      "execution_count": 29,
      "outputs": [
        {
          "output_type": "stream",
          "name": "stdout",
          "text": [
            "0.9090909090909091\n",
            "0.9090909090909091\n"
          ]
        }
      ]
    },
    {
      "cell_type": "code",
      "source": [
        "result2 = pd.DataFrame({'original' : y_test,'predicted' : y_test_pred})"
      ],
      "metadata": {
        "id": "oqoOPPBaJnXs"
      },
      "execution_count": 30,
      "outputs": []
    },
    {
      "cell_type": "code",
      "source": [
        "result2"
      ],
      "metadata": {
        "colab": {
          "base_uri": "https://localhost:8080/",
          "height": 580
        },
        "id": "-AcaCC8nJ1XW",
        "outputId": "502f541e-8f22-4bf6-8598-43ac21b49409"
      },
      "execution_count": 31,
      "outputs": [
        {
          "output_type": "execute_result",
          "data": {
            "text/plain": [
              "    original  predicted\n",
              "0          0          0\n",
              "1          1          1\n",
              "2          0          0\n",
              "3          0          0\n",
              "4          1          0\n",
              "5          0          0\n",
              "6          0          0\n",
              "7          1          0\n",
              "8          0          0\n",
              "9          0          0\n",
              "10         1          1\n",
              "11         1          1\n",
              "12         1          1\n",
              "13         1          1\n",
              "14         0          0\n",
              "15         0          0\n",
              "16         1          1\n",
              "17         0          0\n",
              "18         1          1\n",
              "19         1          1\n",
              "20         1          1\n",
              "21         0          0"
            ],
            "text/html": [
              "\n",
              "  <div id=\"df-cc432589-1499-4bf9-94a1-0aab3285d6f3\">\n",
              "    <div class=\"colab-df-container\">\n",
              "      <div>\n",
              "<style scoped>\n",
              "    .dataframe tbody tr th:only-of-type {\n",
              "        vertical-align: middle;\n",
              "    }\n",
              "\n",
              "    .dataframe tbody tr th {\n",
              "        vertical-align: top;\n",
              "    }\n",
              "\n",
              "    .dataframe thead th {\n",
              "        text-align: right;\n",
              "    }\n",
              "</style>\n",
              "<table border=\"1\" class=\"dataframe\">\n",
              "  <thead>\n",
              "    <tr style=\"text-align: right;\">\n",
              "      <th></th>\n",
              "      <th>original</th>\n",
              "      <th>predicted</th>\n",
              "    </tr>\n",
              "  </thead>\n",
              "  <tbody>\n",
              "    <tr>\n",
              "      <th>0</th>\n",
              "      <td>0</td>\n",
              "      <td>0</td>\n",
              "    </tr>\n",
              "    <tr>\n",
              "      <th>1</th>\n",
              "      <td>1</td>\n",
              "      <td>1</td>\n",
              "    </tr>\n",
              "    <tr>\n",
              "      <th>2</th>\n",
              "      <td>0</td>\n",
              "      <td>0</td>\n",
              "    </tr>\n",
              "    <tr>\n",
              "      <th>3</th>\n",
              "      <td>0</td>\n",
              "      <td>0</td>\n",
              "    </tr>\n",
              "    <tr>\n",
              "      <th>4</th>\n",
              "      <td>1</td>\n",
              "      <td>0</td>\n",
              "    </tr>\n",
              "    <tr>\n",
              "      <th>5</th>\n",
              "      <td>0</td>\n",
              "      <td>0</td>\n",
              "    </tr>\n",
              "    <tr>\n",
              "      <th>6</th>\n",
              "      <td>0</td>\n",
              "      <td>0</td>\n",
              "    </tr>\n",
              "    <tr>\n",
              "      <th>7</th>\n",
              "      <td>1</td>\n",
              "      <td>0</td>\n",
              "    </tr>\n",
              "    <tr>\n",
              "      <th>8</th>\n",
              "      <td>0</td>\n",
              "      <td>0</td>\n",
              "    </tr>\n",
              "    <tr>\n",
              "      <th>9</th>\n",
              "      <td>0</td>\n",
              "      <td>0</td>\n",
              "    </tr>\n",
              "    <tr>\n",
              "      <th>10</th>\n",
              "      <td>1</td>\n",
              "      <td>1</td>\n",
              "    </tr>\n",
              "    <tr>\n",
              "      <th>11</th>\n",
              "      <td>1</td>\n",
              "      <td>1</td>\n",
              "    </tr>\n",
              "    <tr>\n",
              "      <th>12</th>\n",
              "      <td>1</td>\n",
              "      <td>1</td>\n",
              "    </tr>\n",
              "    <tr>\n",
              "      <th>13</th>\n",
              "      <td>1</td>\n",
              "      <td>1</td>\n",
              "    </tr>\n",
              "    <tr>\n",
              "      <th>14</th>\n",
              "      <td>0</td>\n",
              "      <td>0</td>\n",
              "    </tr>\n",
              "    <tr>\n",
              "      <th>15</th>\n",
              "      <td>0</td>\n",
              "      <td>0</td>\n",
              "    </tr>\n",
              "    <tr>\n",
              "      <th>16</th>\n",
              "      <td>1</td>\n",
              "      <td>1</td>\n",
              "    </tr>\n",
              "    <tr>\n",
              "      <th>17</th>\n",
              "      <td>0</td>\n",
              "      <td>0</td>\n",
              "    </tr>\n",
              "    <tr>\n",
              "      <th>18</th>\n",
              "      <td>1</td>\n",
              "      <td>1</td>\n",
              "    </tr>\n",
              "    <tr>\n",
              "      <th>19</th>\n",
              "      <td>1</td>\n",
              "      <td>1</td>\n",
              "    </tr>\n",
              "    <tr>\n",
              "      <th>20</th>\n",
              "      <td>1</td>\n",
              "      <td>1</td>\n",
              "    </tr>\n",
              "    <tr>\n",
              "      <th>21</th>\n",
              "      <td>0</td>\n",
              "      <td>0</td>\n",
              "    </tr>\n",
              "  </tbody>\n",
              "</table>\n",
              "</div>\n",
              "      <button class=\"colab-df-convert\" onclick=\"convertToInteractive('df-cc432589-1499-4bf9-94a1-0aab3285d6f3')\"\n",
              "              title=\"Convert this dataframe to an interactive table.\"\n",
              "              style=\"display:none;\">\n",
              "        \n",
              "  <svg xmlns=\"http://www.w3.org/2000/svg\" height=\"24px\"viewBox=\"0 0 24 24\"\n",
              "       width=\"24px\">\n",
              "    <path d=\"M0 0h24v24H0V0z\" fill=\"none\"/>\n",
              "    <path d=\"M18.56 5.44l.94 2.06.94-2.06 2.06-.94-2.06-.94-.94-2.06-.94 2.06-2.06.94zm-11 1L8.5 8.5l.94-2.06 2.06-.94-2.06-.94L8.5 2.5l-.94 2.06-2.06.94zm10 10l.94 2.06.94-2.06 2.06-.94-2.06-.94-.94-2.06-.94 2.06-2.06.94z\"/><path d=\"M17.41 7.96l-1.37-1.37c-.4-.4-.92-.59-1.43-.59-.52 0-1.04.2-1.43.59L10.3 9.45l-7.72 7.72c-.78.78-.78 2.05 0 2.83L4 21.41c.39.39.9.59 1.41.59.51 0 1.02-.2 1.41-.59l7.78-7.78 2.81-2.81c.8-.78.8-2.07 0-2.86zM5.41 20L4 18.59l7.72-7.72 1.47 1.35L5.41 20z\"/>\n",
              "  </svg>\n",
              "      </button>\n",
              "      \n",
              "  <style>\n",
              "    .colab-df-container {\n",
              "      display:flex;\n",
              "      flex-wrap:wrap;\n",
              "      gap: 12px;\n",
              "    }\n",
              "\n",
              "    .colab-df-convert {\n",
              "      background-color: #E8F0FE;\n",
              "      border: none;\n",
              "      border-radius: 50%;\n",
              "      cursor: pointer;\n",
              "      display: none;\n",
              "      fill: #1967D2;\n",
              "      height: 32px;\n",
              "      padding: 0 0 0 0;\n",
              "      width: 32px;\n",
              "    }\n",
              "\n",
              "    .colab-df-convert:hover {\n",
              "      background-color: #E2EBFA;\n",
              "      box-shadow: 0px 1px 2px rgba(60, 64, 67, 0.3), 0px 1px 3px 1px rgba(60, 64, 67, 0.15);\n",
              "      fill: #174EA6;\n",
              "    }\n",
              "\n",
              "    [theme=dark] .colab-df-convert {\n",
              "      background-color: #3B4455;\n",
              "      fill: #D2E3FC;\n",
              "    }\n",
              "\n",
              "    [theme=dark] .colab-df-convert:hover {\n",
              "      background-color: #434B5C;\n",
              "      box-shadow: 0px 1px 3px 1px rgba(0, 0, 0, 0.15);\n",
              "      filter: drop-shadow(0px 1px 2px rgba(0, 0, 0, 0.3));\n",
              "      fill: #FFFFFF;\n",
              "    }\n",
              "  </style>\n",
              "\n",
              "      <script>\n",
              "        const buttonEl =\n",
              "          document.querySelector('#df-cc432589-1499-4bf9-94a1-0aab3285d6f3 button.colab-df-convert');\n",
              "        buttonEl.style.display =\n",
              "          google.colab.kernel.accessAllowed ? 'block' : 'none';\n",
              "\n",
              "        async function convertToInteractive(key) {\n",
              "          const element = document.querySelector('#df-cc432589-1499-4bf9-94a1-0aab3285d6f3');\n",
              "          const dataTable =\n",
              "            await google.colab.kernel.invokeFunction('convertToInteractive',\n",
              "                                                     [key], {});\n",
              "          if (!dataTable) return;\n",
              "\n",
              "          const docLinkHtml = 'Like what you see? Visit the ' +\n",
              "            '<a target=\"_blank\" href=https://colab.research.google.com/notebooks/data_table.ipynb>data table notebook</a>'\n",
              "            + ' to learn more about interactive tables.';\n",
              "          element.innerHTML = '';\n",
              "          dataTable['output_type'] = 'display_data';\n",
              "          await google.colab.output.renderOutput(dataTable, element);\n",
              "          const docLink = document.createElement('div');\n",
              "          docLink.innerHTML = docLinkHtml;\n",
              "          element.appendChild(docLink);\n",
              "        }\n",
              "      </script>\n",
              "    </div>\n",
              "  </div>\n",
              "  "
            ]
          },
          "metadata": {},
          "execution_count": 31
        }
      ]
    },
    {
      "cell_type": "code",
      "source": [
        "from sklearn.metrics import classification_report\n",
        "print(classification_report(y_test, y_test_pred, target_names=['IC_WITH', 'IC_WITHOUT']))"
      ],
      "metadata": {
        "id": "6Ir3do8L8Fei",
        "outputId": "1b5f540a-8931-4efe-b95c-7916ee4f56fc",
        "colab": {
          "base_uri": "https://localhost:8080/"
        }
      },
      "execution_count": 32,
      "outputs": [
        {
          "output_type": "stream",
          "name": "stdout",
          "text": [
            "              precision    recall  f1-score   support\n",
            "\n",
            "     IC_WITH       0.85      1.00      0.92        11\n",
            "  IC_WITHOUT       1.00      0.82      0.90        11\n",
            "\n",
            "    accuracy                           0.91        22\n",
            "   macro avg       0.92      0.91      0.91        22\n",
            "weighted avg       0.92      0.91      0.91        22\n",
            "\n"
          ]
        }
      ]
    },
    {
      "cell_type": "code",
      "metadata": {
        "colab": {
          "base_uri": "https://localhost:8080/",
          "height": 521
        },
        "id": "g0tTIQqvw6Ov",
        "outputId": "8b959030-2b7a-49d9-9978-e7a0141ec13b"
      },
      "source": [
        "# Get the confusion matrix\n",
        "cm  = confusion_matrix(y_test, y_test_pred)\n",
        "plt.figure()\n",
        "plot_confusion_matrix(cm,figsize=(12,8), hide_ticks=True,cmap=plt.cm.Blues)\n",
        "plt.xticks(range(2), ['IC_WITH', 'IC_WITHOUT'], fontsize=16)\n",
        "plt.yticks(range(2), ['IC_WITH', 'IC_WITHOUT'], fontsize=16)\n",
        "plt.show()"
      ],
      "execution_count": 33,
      "outputs": [
        {
          "output_type": "display_data",
          "data": {
            "text/plain": [
              "<Figure size 432x288 with 0 Axes>"
            ]
          },
          "metadata": {}
        },
        {
          "output_type": "display_data",
          "data": {
            "text/plain": [
              "<Figure size 864x576 with 1 Axes>"
            ],
            "image/png": "[encoded data removed]"
          },
          "metadata": {
            "needs_background": "light"
          }
        }
      ]
    },
    {
      "cell_type": "code",
      "source": [
        "predicted_label = grid_search_lbp.best_estimator_.predict(X=X_test)\n",
        "\n",
        "#print the predicted label of the image\n",
        "print(\"Predicted label:\", y_test)"
      ],
      "metadata": {
        "id": "5zYMEjirmE_E",
        "colab": {
          "base_uri": "https://localhost:8080/"
        },
        "outputId": "5eddd947-b003-4664-ce52-92afbe2c3b23"
      },
      "execution_count": 89,
      "outputs": [
        {
          "output_type": "stream",
          "name": "stdout",
          "text": [
            "Predicted label: [0 1 0 0 1 0 0 1 0 0 1 1 1 1 0 0 1 0 1 1 1 0]\n"
          ]
        }
      ]
    },
    {
      "cell_type": "code",
      "source": [
        "import matplotlib.pyplot as plt\n",
        "from matplotlib.image import imread\n",
        "img = imread('/content/drive/MyDrive/data/IC_PINS/test/IC_WITH/IC_WITH (1).png')\n",
        "plt.imshow(img)\n",
        "plt.show()"
      ],
      "metadata": {
        "colab": {
          "base_uri": "https://localhost:8080/",
          "height": 269
        },
        "id": "KV01U2PSsK0O",
        "outputId": "6f60857b-0981-4286-9840-6dc83b561cbb"
      },
      "execution_count": 79,
      "outputs": [
        {
          "output_type": "display_data",
          "data": {
            "text/plain": [
              "<Figure size 432x288 with 1 Axes>"
            ],
            "image/png": "[encoded data removed]"
          },
          "metadata": {
            "needs_background": "light"
          }
        }
      ]
    },
    {
      "cell_type": "code",
      "source": [],
      "metadata": {
        "id": "FyhZ85BGq3Jd"
      },
      "execution_count": null,
      "outputs": []
    }
  ]
}